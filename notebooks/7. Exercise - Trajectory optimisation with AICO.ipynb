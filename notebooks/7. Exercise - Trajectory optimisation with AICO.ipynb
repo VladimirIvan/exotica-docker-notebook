{
 "cells": [
  {
   "cell_type": "markdown",
   "metadata": {},
   "source": [
    "# Exercise\n",
    "In this exercise you will learn how to do trajectory optimisation using the Approximate Inference COntrol algorithm ([AICO](https://www.icml.cc/Conferences/2009/papers/271.pdf)).\n",
    "The AICO algoritm is designed to solve a `UnconstrainedTimeIndexedProblem`. Similarly to the `UnconstrainedEdnPoseProblem` it defines a cost minimisation problem. However, the cost is minimized across an uniformly discretized trajectory. There is `T` number of timesteps spaced uniformly with at time intervals `tau` apart (`tau` would often be called `dt`). The task maps get updated for each time step and the task stores a vector of scaling factors `rho`. You can create complex transitions by tweaking the scaling factors for each task at every timestep separately.\n",
    "\n",
    "The basic setup is the same as for every other solver since most of the problem definition takes place in the XML:"
   ]
  },
  {
   "cell_type": "code",
   "execution_count": null,
   "metadata": {},
   "outputs": [],
   "source": [
    "import pyexotica as exo\n",
    "import numpy as np\n",
    "exo.Setup.init_ros()"
   ]
  },
  {
   "cell_type": "code",
   "execution_count": null,
   "metadata": {},
   "outputs": [],
   "source": [
    "solver = exo.Setup.load_solver('resources/example_aico_trajectory.xml')\n",
    "problem = solver.get_problem()\n",
    "\n",
    "# Visualisation\n",
    "scene = problem.get_scene()\n",
    "vis = exo.VisualizationMeshcat(scene, 'tcp://127.0.0.1:6000')\n",
    "vis.delete()\n",
    "vis.display_scene()\n",
    "exo.jupyter_meshcat.show(vis.get_web_url())"
   ]
  },
  {
   "cell_type": "markdown",
   "metadata": {},
   "source": [
    "The weights `rho` can be set separately for each time step. A common setup is to set the weights to zero when a certain task does not need to be active. Below is an example of the end-effector frame tracking being ignored for the first 0.8s of the trajectory. Then the end-effector tracks the target (figure eight) with high precision (`1e5`). The solver doesn't have to minimise any cost for the 0.8s of the trajectory so it is only minimising the control effort. This setup will produce a smooth transition towards the target location before starting the treacking."
   ]
  },
  {
   "cell_type": "code",
   "execution_count": null,
   "metadata": {},
   "outputs": [],
   "source": [
    "# Set the rho profile\n",
    "for t in range(0, problem.T):\n",
    "    if float(t)*problem.tau < 0.8:\n",
    "        problem.set_rho('Frame', 0.0, t)\n",
    "    else:\n",
    "        problem.set_rho('Frame', 1e5, t)\n",
    "\n",
    "# Solve and visualize\n",
    "trajectory = solver.solve()\n",
    "vis.display_trajectory(trajectory, 0.3)\n",
    "\n",
    "print('Planning time: '+str(solver.get_planning_time())+'s')"
   ]
  },
  {
   "cell_type": "markdown",
   "metadata": {},
   "source": [
    " 1. Edit the code above to change the timing of the when the tracking starts.\n",
    " 1. Edit the code above to encrease/decrease the tracking accuracy.\n",
    " 1. Set the initial trajectory of the problem to warm start the solver, e.g., ```problem.initial_trajectory = trajectory```. Observe how the planning time decreases."
   ]
  }
 ],
 "metadata": {
  "kernelspec": {
   "display_name": "Python 2",
   "language": "python",
   "name": "python2"
  },
  "language_info": {
   "codemirror_mode": {
    "name": "ipython",
    "version": 2
   },
   "file_extension": ".py",
   "mimetype": "text/x-python",
   "name": "python",
   "nbconvert_exporter": "python",
   "pygments_lexer": "ipython2",
   "version": "2.7.15+"
  }
 },
 "nbformat": 4,
 "nbformat_minor": 2
}
