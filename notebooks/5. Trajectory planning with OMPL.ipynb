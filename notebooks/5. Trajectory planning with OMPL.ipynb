{
 "cells": [
  {
   "cell_type": "markdown",
   "metadata": {},
   "source": [
    "# Trajectory planning with OMPL\n",
    "This example shows how to use EXOTica to plan collision free trajectories using OMPL.\n",
    "The problem is fully defined in the XML file so the setup is fairly standard:"
   ]
  },
  {
   "cell_type": "code",
   "execution_count": null,
   "metadata": {},
   "outputs": [],
   "source": [
    "import pyexotica as exo\n",
    "import numpy as np\n",
    "exo.Setup.init_ros()"
   ]
  },
  {
   "cell_type": "code",
   "execution_count": null,
   "metadata": {},
   "outputs": [],
   "source": [
    "solver = exo.Setup.load_solver('resources/example_manipulate_ompl.xml')\n",
    "problem = solver.get_problem()\n",
    "\n",
    "# Visualisation\n",
    "scene = problem.get_scene()\n",
    "vis = exo.VisualizationMeshcat(scene, 'tcp://127.0.0.1:6000')\n",
    "vis.delete()\n",
    "vis.display_scene()\n",
    "exo.jupyter_meshcat.show(vis.get_web_url())"
   ]
  },
  {
   "cell_type": "markdown",
   "metadata": {},
   "source": [
    "The only difference is in the visualisation. Here we pass the whole trajectory into the `display_trajectory()` method along with a `dt` parameter (duration of each time step). The solver is `RRTConnect` which does not specify the timing of the trajectory. The `dt` is therefore chosen arbitrarily."
   ]
  },
  {
   "cell_type": "code",
   "execution_count": null,
   "metadata": {},
   "outputs": [],
   "source": [
    "vis.display_trajectory(solver.solve(), 0.2)"
   ]
  },
  {
   "cell_type": "markdown",
   "metadata": {},
   "source": [
    "Explore the configuration file `resources/example_manipulate_ompl.xml`.\n",
    "\n",
    "Note that the `SamplingProblem` does not support cost minimisation. It only check state validity against the equality constriants. The only state validity criterion is the collision avoidance:\n",
    "```XML\n",
    "<Maps>\n",
    "  <CollisionCheck Name=\"Collision\" SelfCollision=\"0\" />\n",
    "</Maps>\n",
    "\n",
    "<Equality>\n",
    "  <Task Task=\"Collision\"/>\n",
    "</Equality>\n",
    "```\n",
    "\n",
    "The `Item` link (the box at the end-effector) has been attached to the last link of the robot in the XML. Thes means that it automatically becomes part of the robot collision shapes and it's collisions with the environment will be considered.\n",
    "\n",
    "This type of problem plans a valid path between the `StartState` configuration and the `Goal` configuration. You can change the start/goal directly from python:"
   ]
  },
  {
   "cell_type": "code",
   "execution_count": null,
   "metadata": {},
   "outputs": [],
   "source": [
    "problem.goal_state = np.array([0.0]*7)\n",
    "vis.display_trajectory(solver.solve(), 0.2)"
   ]
  },
  {
   "cell_type": "code",
   "execution_count": null,
   "metadata": {},
   "outputs": [],
   "source": []
  }
 ],
 "metadata": {
  "kernelspec": {
   "display_name": "Python 2",
   "language": "python",
   "name": "python2"
  },
  "language_info": {
   "codemirror_mode": {
    "name": "ipython",
    "version": 2
   },
   "file_extension": ".py",
   "mimetype": "text/x-python",
   "name": "python",
   "nbconvert_exporter": "python",
   "pygments_lexer": "ipython2",
   "version": "2.7.15+"
  }
 },
 "nbformat": 4,
 "nbformat_minor": 2
}
