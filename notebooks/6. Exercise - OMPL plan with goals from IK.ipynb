{
 "cells": [
  {
   "cell_type": "markdown",
   "metadata": {},
   "source": [
    "# Exercise\n",
    " 1. Create an IK solver as shown in notebook 1.\n",
    " 1. Set a new target location for the IK solver.\n",
    " 1. Create an OMPL solver as shown in notebook 5.\n",
    " 1. Set the OMPL problem goal state to the solution of the IK solver.\n",
    " \n",
    " \n",
    "Tip: To move the `Target` from python, it's easiest to move the conveniently prepared `TargetOffset` link. You can move a link in the scene by attaching it to its parent with a different offset:\n",
    "```Python\n",
    "scene.attach_object_local('TargetOffset', '', np.array([0.5,0.4,0.6]))\n",
    "```\n",
    "The arguments of this method are: frame to move, parent frame (root frame if the string is empty), the frame offset (the array is parsed as: xyz, xyz rpy, or xyz xyzw).\n",
    "\n",
    "Note: Some of the goal states you provide may not be collision free. OMPL will detect this and report a failure."
   ]
  },
  {
   "cell_type": "code",
   "execution_count": null,
   "metadata": {},
   "outputs": [],
   "source": [
    "import pyexotica as exo\n",
    "import numpy as np\n",
    "exo.Setup.init_ros()"
   ]
  },
  {
   "cell_type": "code",
   "execution_count": null,
   "metadata": {},
   "outputs": [],
   "source": [
    "solver_ompl = exo.Setup.load_solver('resources/example_manipulate_ompl.xml')\n",
    "problem_ompl = solver_ompl.get_problem()\n",
    "\n",
    "# Visualisation\n",
    "scene_ompl = problem_ompl.get_scene()\n",
    "vis = exo.VisualizationMeshcat(scene_ompl, 'tcp://127.0.0.1:6000')\n",
    "vis.delete()\n",
    "vis.display_scene()\n",
    "exo.jupyter_meshcat.show(vis.get_web_url())"
   ]
  },
  {
   "cell_type": "code",
   "execution_count": null,
   "metadata": {},
   "outputs": [],
   "source": [
    "# Create the IK solver here"
   ]
  },
  {
   "cell_type": "code",
   "execution_count": null,
   "metadata": {},
   "outputs": [],
   "source": [
    "# Assign the goal state and solve\n",
    "# problem_ompl.goal_state = ...\n",
    "vis.display_trajectory(solver_ompl.solve(), 0.2)"
   ]
  },
  {
   "cell_type": "code",
   "execution_count": null,
   "metadata": {},
   "outputs": [],
   "source": []
  }
 ],
 "metadata": {
  "kernelspec": {
   "display_name": "Python 2",
   "language": "python",
   "name": "python2"
  },
  "language_info": {
   "codemirror_mode": {
    "name": "ipython",
    "version": 2
   },
   "file_extension": ".py",
   "mimetype": "text/x-python",
   "name": "python",
   "nbconvert_exporter": "python",
   "pygments_lexer": "ipython2",
   "version": "2.7.15+"
  }
 },
 "nbformat": 4,
 "nbformat_minor": 2
}
