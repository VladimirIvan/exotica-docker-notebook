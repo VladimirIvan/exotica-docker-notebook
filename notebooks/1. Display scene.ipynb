{
 "cells": [
  {
   "cell_type": "code",
   "execution_count": null,
   "metadata": {},
   "outputs": [],
   "source": [
    "import pyexotica as exo"
   ]
  },
  {
   "cell_type": "code",
   "execution_count": null,
   "metadata": {},
   "outputs": [],
   "source": [
    "exo.Setup.init_ros()\n",
    "solver = exo.Setup.load_solver('{exotica_examples}/resources/configs/example_ik_quasistatic_talos.xml')\n",
    "\n",
    "# Visualise the robot\n",
    "vis = exo.VisualizationMeshcat(solver.get_problem().get_scene(), 'tcp://127.0.0.1:6000')\n",
    "vis.delete() # Clear existing scene\n",
    "vis.display_scene() # Display this scene"
   ]
  },
  {
   "cell_type": "code",
   "execution_count": null,
   "metadata": {},
   "outputs": [],
   "source": [
    "# Show the visualisation window\n",
    "exo.jupyter_meshcat.show(vis.get_web_url())"
   ]
  }
 ],
 "metadata": {
  "kernelspec": {
   "display_name": "Python 2",
   "language": "python",
   "name": "python2"
  },
  "language_info": {
   "codemirror_mode": {
    "name": "ipython",
    "version": 2
   },
   "file_extension": ".py",
   "mimetype": "text/x-python",
   "name": "python",
   "nbconvert_exporter": "python",
   "pygments_lexer": "ipython2",
   "version": "2.7.15+"
  }
 },
 "nbformat": 4,
 "nbformat_minor": 2
}
