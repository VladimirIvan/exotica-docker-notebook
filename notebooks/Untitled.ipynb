{
 "cells": [
  {
   "cell_type": "code",
   "execution_count": 1,
   "metadata": {},
   "outputs": [],
   "source": [
    "import pyexotica as exo\n",
    "import matplotlib.pyplot as plt\n",
    "import numpy as np\n"
   ]
  },
  {
   "cell_type": "code",
   "execution_count": 2,
   "metadata": {},
   "outputs": [
    {
     "name": "stdout",
     "output_type": "stream",
     "text": [
      "URL: http://127.0.0.1:7000/static/\n"
     ]
    }
   ],
   "source": [
    "exo.Setup.init_ros()\n",
    "solver = exo.Setup.load_solver(\n",
    "    '{exotica_examples}/resources/configs/example_ik_quasistatic_valkyrie.xml')\n",
    "problem = solver.get_problem()\n",
    "scene = problem.get_scene()\n",
    "\n",
    "vis = exo.VisualizationMeshcat(scene, 'tcp://127.0.0.1:6000')\n",
    "print('URL: ' + vis.get_web_url())\n",
    "\n",
    "# Delete existing scene\n",
    "vis.delete()\n",
    "# Display this scene\n",
    "vis.display_scene()"
   ]
  },
  {
   "cell_type": "code",
   "execution_count": null,
   "metadata": {},
   "outputs": [],
   "source": []
  }
 ],
 "metadata": {
  "kernelspec": {
   "display_name": "Python 2",
   "language": "python",
   "name": "python2"
  },
  "language_info": {
   "codemirror_mode": {
    "name": "ipython",
    "version": 2
   },
   "file_extension": ".py",
   "mimetype": "text/x-python",
   "name": "python",
   "nbconvert_exporter": "python",
   "pygments_lexer": "ipython2",
   "version": "2.7.15+"
  }
 },
 "nbformat": 4,
 "nbformat_minor": 2
}
