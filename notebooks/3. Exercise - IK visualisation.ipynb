{
 "cells": [
  {
   "cell_type": "markdown",
   "metadata": {},
   "source": [
    "# Exercise\n",
    "Combine the IK solver and the visualisation demos to display solutions of the IK solver."
   ]
  },
  {
   "cell_type": "code",
   "execution_count": null,
   "metadata": {},
   "outputs": [],
   "source": [
    "import pyexotica as exo\n",
    "import numpy as np\n",
    "exo.Setup.init_ros()\n",
    "solver = exo.Setup.load_solver('{exotica_examples}/resources/configs/example_ik_trajectory.xml')\n",
    "problem = solver.get_problem()"
   ]
  },
  {
   "cell_type": "markdown",
   "metadata": {},
   "source": [
    "Tip: The configuration file defines a trajectory for a moving target for the IK solver. You can set the time at which the target should be by using `problem.start_time = t`. Change the start time and visualise the different robot poses.\n",
    "\n",
    "Tip: You can change the start state at which the IK solver starts optimising the robot pose. Use `problem.start_state` to set the start state. A start state close to the solution requires fewer iterations to converge. Experiment with different start states (e.g., using the last solution state).\n",
    "\n",
    "Tip: The `display_state(x, t)` method has a second argument `t`. This is the time at which the scene should be updated before publishing the states. Use the same `t` here as you used for the solver start time."
   ]
  },
  {
   "cell_type": "code",
   "execution_count": null,
   "metadata": {},
   "outputs": [],
   "source": []
  }
 ],
 "metadata": {
  "kernelspec": {
   "display_name": "Python 2",
   "language": "python",
   "name": "python2"
  },
  "language_info": {
   "codemirror_mode": {
    "name": "ipython",
    "version": 2
   },
   "file_extension": ".py",
   "mimetype": "text/x-python",
   "name": "python",
   "nbconvert_exporter": "python",
   "pygments_lexer": "ipython2",
   "version": "2.7.15+"
  }
 },
 "nbformat": 4,
 "nbformat_minor": 2
}
