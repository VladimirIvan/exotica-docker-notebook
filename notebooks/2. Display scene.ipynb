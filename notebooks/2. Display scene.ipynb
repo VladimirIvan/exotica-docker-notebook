{
 "cells": [
  {
   "cell_type": "markdown",
   "metadata": {},
   "source": [
    "# Robot and scene visualisation\n",
    "This demo shows how to create a planning problem and a solver and how to visualise the planning scene."
   ]
  },
  {
   "cell_type": "code",
   "execution_count": null,
   "metadata": {},
   "outputs": [],
   "source": [
    "import pyexotica as exo\n",
    "import numpy as np"
   ]
  },
  {
   "cell_type": "markdown",
   "metadata": {},
   "source": [
    "Initialize ROS to enbale searching for resources in ROS packages.\n",
    "\n",
    "Then load a solver, problem and scene from an XML config file."
   ]
  },
  {
   "cell_type": "code",
   "execution_count": null,
   "metadata": {},
   "outputs": [],
   "source": [
    "exo.Setup.init_ros()\n",
    "solver = exo.Setup.load_solver('{exotica_examples}/resources/configs/example_ik_quasistatic_talos.xml')"
   ]
  },
  {
   "cell_type": "markdown",
   "metadata": {},
   "source": [
    "Jupyter notebooks should use the `VisualizationMeshcat` class which uses [MeshCat](https://github.com/rdeits/meshcat) to display the robot in the browser. It's constructor requires the EXOTica scene and the url of the [MeshCat server](https://github.com/rdeits/meshcat-python).\n",
    "\n",
    "Fisrt delete any existing visualisation content. Then publish the scene contents to the visualiser.\n",
    "Call `display_scene()` when new shapes/objects are added to the scene. It causes the shapes to be reloaded so it should only be called once."
   ]
  },
  {
   "cell_type": "code",
   "execution_count": null,
   "metadata": {},
   "outputs": [],
   "source": [
    "scene = solver.get_problem().get_scene()\n",
    "vis = exo.VisualizationMeshcat(scene, 'tcp://127.0.0.1:6000')\n",
    "vis.delete() # Clear existing scene\n",
    "vis.display_scene() # Display this scene"
   ]
  },
  {
   "cell_type": "markdown",
   "metadata": {},
   "source": [
    "Show the visualisation in a jupyter cell."
   ]
  },
  {
   "cell_type": "code",
   "execution_count": null,
   "metadata": {},
   "outputs": [],
   "source": [
    "exo.jupyter_meshcat.show(vis.get_web_url())"
   ]
  },
  {
   "cell_type": "markdown",
   "metadata": {},
   "source": [
    "You can now publish poses and trajectories to the visualiser."
   ]
  },
  {
   "cell_type": "code",
   "execution_count": null,
   "metadata": {},
   "outputs": [],
   "source": [
    "def random_state():\n",
    "    x = solver.get_problem().get_scene().get_kinematic_tree().get_random_controlled_state()\n",
    "    x[np.isnan(x)] = 0.0\n",
    "    return x"
   ]
  },
  {
   "cell_type": "code",
   "execution_count": null,
   "metadata": {},
   "outputs": [],
   "source": [
    "vis.display_state(random_state())"
   ]
  },
  {
   "cell_type": "code",
   "execution_count": null,
   "metadata": {},
   "outputs": [],
   "source": [
    "vis.display_state(np.zeros(solver.get_problem().N))\n"
   ]
  },
  {
   "cell_type": "markdown",
   "metadata": {},
   "source": [
    "You can edit the visualiser properties using the control UI.\n",
    "You can also set properties programatically. See the [MeshCat](https://github.com/rdeits/meshcat) and [THREEJS](https://threejs.org/) documentation for mor information."
   ]
  },
  {
   "cell_type": "code",
   "execution_count": null,
   "metadata": {},
   "outputs": [],
   "source": [
    "vis.set_property('/Lights/DirectionalLight','visible', False)\n",
    "vis.set_property('/Lights/FillLight','visible', False)\n",
    "vis.set_property('/Lights/SpotLight','visible', True)\n",
    "vis.set_property('/Lights/SpotLight/<object>','castShadow', True)\n",
    "vis.set_property('/Grid','visible', False)\n",
    "vis.set_property('/Axes','visible', False)"
   ]
  },
  {
   "cell_type": "markdown",
   "metadata": {},
   "source": [
    "You can load additional scene elements and display them along side of the robot. This can be done either directly in the XML file or programatically as shown below. Don't forget to call `display_scene()` after adding new objects into the scene."
   ]
  },
  {
   "cell_type": "code",
   "execution_count": null,
   "metadata": {},
   "outputs": [],
   "source": [
    "scene.load_scene_file('{exotica_examples}/resources/scenes/example_manipulate.scene', exo.KDLFrame([1,0,-1.1,0,0,3.14]))\n",
    "vis.display_scene()"
   ]
  },
  {
   "cell_type": "code",
   "execution_count": null,
   "metadata": {},
   "outputs": [],
   "source": []
  }
 ],
 "metadata": {
  "kernelspec": {
   "display_name": "Python 2",
   "language": "python",
   "name": "python2"
  },
  "language_info": {
   "codemirror_mode": {
    "name": "ipython",
    "version": 2
   },
   "file_extension": ".py",
   "mimetype": "text/x-python",
   "name": "python",
   "nbconvert_exporter": "python",
   "pygments_lexer": "ipython2",
   "version": "2.7.15+"
  }
 },
 "nbformat": 4,
 "nbformat_minor": 2
}
