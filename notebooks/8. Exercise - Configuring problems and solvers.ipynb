{
 "cells": [
  {
   "cell_type": "markdown",
   "metadata": {},
   "source": [
    "# Exercise\n",
    "In this exercise, you'll going to configure the planning problem and the solver before calling solve. These changes are best done at initialization in python or directly by editing the XML. We'll start in python."
   ]
  },
  {
   "cell_type": "code",
   "execution_count": null,
   "metadata": {},
   "outputs": [],
   "source": [
    "import pyexotica as exo\n",
    "import numpy as np\n",
    "exo.Setup.init_ros()"
   ]
  },
  {
   "cell_type": "markdown",
   "metadata": {},
   "source": [
    "First, lets unpack the convenient `Setup.load_solver()` method into the individual steps described in the previous tutorial:"
   ]
  },
  {
   "cell_type": "code",
   "execution_count": null,
   "metadata": {},
   "outputs": [],
   "source": [
    "# Parse xml an create generic initilizers\n",
    "solver_init_generic, problem_init_generic = exo.Initializers.load_xml_full('{exotica_examples}/resources/configs/example_ik_trajectory.xml')\n",
    "# Create specialized initializers (explicitly in this case)\n",
    "solver_init = exo.Initializers.Initializer(solver_init_generic)\n",
    "problem_init = exo.Initializers.Initializer(problem_init_generic)\n",
    "\n",
    "# Edit the initializers here\n",
    "\n",
    "# Create the main objects\n",
    "solver = exo.Setup.create_solver(solver_init)\n",
    "problem = exo.Setup.create_problem(problem_init)\n",
    "# Assign the problem to the solver\n",
    "solver.specify_problem(problem)"
   ]
  },
  {
   "cell_type": "markdown",
   "metadata": {},
   "source": [
    "The above code is equivalent to:\n",
    "```\n",
    "solver = exo.Setup.load_solver('{exotica_examples}/resources/configs/example_ik_trajectory.xml')\n",
    "problem = solver.get_problem()\n",
    "```\n",
    "\n",
    "However, it allows us to edit the initializers before creating the objects. The python data structure is a tuple of a string and a dictionary. The data strutures can be nested. You can print the initializer to see its properties:"
   ]
  },
  {
   "cell_type": "code",
   "execution_count": null,
   "metadata": {},
   "outputs": [],
   "source": [
    "solver_init"
   ]
  },
  {
   "cell_type": "code",
   "execution_count": null,
   "metadata": {},
   "outputs": [],
   "source": [
    "problem_init"
   ]
  },
  {
   "cell_type": "markdown",
   "metadata": {},
   "source": [
    "## Edit the initilizers in python\n",
    "Go back to the parsing code at top of the notebook (copied below) and inject modification to the initializer, e.g.:\n",
    "```\n",
    "# Disable the trajectory tracking\n",
    "problem_init[1]['PlanningScene'][1]['Trajectories'] = []\n",
    "# Set max number of solver iterations\n",
    "solver_init[1]['MaxIterations'] = 1\n",
    "```\n",
    "\n",
    "The fist/only task map has the type `exotica/EffFrame`. This means that the end-effector is going to track bot the position and the orientation of the `Target` frame. Change the task map type to `exotica/EffPosition` to track only the position of the target."
   ]
  },
  {
   "cell_type": "code",
   "execution_count": null,
   "metadata": {},
   "outputs": [],
   "source": [
    "# Parse xml an create generic initilizers\n",
    "solver_init_generic, problem_init_generic = exo.Initializers.load_xml_full('{exotica_examples}/resources/configs/example_ik_trajectory.xml')\n",
    "# Create specialized initializers (explicitly in this case)\n",
    "solver_init = exo.Initializers.Initializer(solver_init_generic)\n",
    "problem_init = exo.Initializers.Initializer(problem_init_generic)\n",
    "\n",
    "# Edit the initializers here\n",
    "\n",
    "# Create the main objects\n",
    "solver = exo.Setup.create_solver(solver_init)\n",
    "problem = exo.Setup.create_problem(problem_init)\n",
    "# Assign the problem to the solver\n",
    "solver.specify_problem(problem)\n",
    "\n",
    "# Visualisation\n",
    "scene = problem.get_scene()\n",
    "vis = exo.VisualizationMeshcat(scene, 'tcp://127.0.0.1:6000')\n",
    "vis.delete()\n",
    "vis.display_scene()\n",
    "\n",
    "# Solve\n",
    "t = 1.0\n",
    "problem.start_time = t\n",
    "vis.display_state(solver.solve()[0], t)"
   ]
  },
  {
   "cell_type": "markdown",
   "metadata": {},
   "source": [
    "## Edit the XML\n",
    "Edit the local copy of the XML file at `resources/example_ik_trajectory.xml` to apply same changes as in the previous exercise. Since you're editing the XML directly, you don't need to chnage the initializers and you can use the `Setup.load_solver()` method."
   ]
  },
  {
   "cell_type": "code",
   "execution_count": null,
   "metadata": {},
   "outputs": [],
   "source": [
    "# Load the solver from the local file\n",
    "solver = exo.Setup.load_solver('resources/example_ik_trajectory.xml')\n",
    "problem = solver.get_problem()\n",
    "\n",
    "# Visualisation\n",
    "scene = problem.get_scene()\n",
    "vis = exo.VisualizationMeshcat(scene, 'tcp://127.0.0.1:6000')\n",
    "vis.delete()\n",
    "vis.display_scene()\n",
    "\n",
    "# Solve\n",
    "t = 1.0\n",
    "problem.start_time = t\n",
    "vis.display_state(solver.solve()[0], t)"
   ]
  },
  {
   "cell_type": "markdown",
   "metadata": {},
   "source": [
    "## Visualisation cell"
   ]
  },
  {
   "cell_type": "code",
   "execution_count": null,
   "metadata": {},
   "outputs": [],
   "source": [
    "exo.jupyter_meshcat.show(vis.get_web_url())"
   ]
  },
  {
   "cell_type": "code",
   "execution_count": null,
   "metadata": {},
   "outputs": [],
   "source": [
    "scene.attach_object_local('TargetOffset', '', np.array([0.5,0.3,0.6]))\n",
    "vis.display_state(solver.solve()[0], t)"
   ]
  },
  {
   "cell_type": "code",
   "execution_count": null,
   "metadata": {},
   "outputs": [],
   "source": []
  }
 ],
 "metadata": {
  "kernelspec": {
   "display_name": "Python 2",
   "language": "python",
   "name": "python2"
  },
  "language_info": {
   "codemirror_mode": {
    "name": "ipython",
    "version": 2
   },
   "file_extension": ".py",
   "mimetype": "text/x-python",
   "name": "python",
   "nbconvert_exporter": "python",
   "pygments_lexer": "ipython2",
   "version": "2.7.15+"
  }
 },
 "nbformat": 4,
 "nbformat_minor": 2
}
