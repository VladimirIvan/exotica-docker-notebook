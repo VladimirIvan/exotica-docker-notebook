{
 "cells": [
  {
   "cell_type": "markdown",
   "metadata": {},
   "source": [
    "# Simple IK solver setup\n",
    "This tutorial will show you how create a simple IK solver from an XML config."
   ]
  },
  {
   "cell_type": "code",
   "execution_count": null,
   "metadata": {},
   "outputs": [],
   "source": [
    "import pyexotica as exo\n",
    "import numpy as np"
   ]
  },
  {
   "cell_type": "markdown",
   "metadata": {},
   "source": [
    "First initialise ROS (for access to files in ROS packages). Then load the solver from the XML.\n",
    "\n",
    "The config file uses relative path to the `exotica_examples` package. Use the shorthand notation using curly brackets `{exotica_examples}` to resolve package names."
   ]
  },
  {
   "cell_type": "code",
   "execution_count": null,
   "metadata": {},
   "outputs": [],
   "source": [
    "exo.Setup.init_ros()\n",
    "solver = exo.Setup.load_solver('{exotica_examples}/resources/configs/example_ik_trajectory.xml')"
   ]
  },
  {
   "cell_type": "markdown",
   "metadata": {},
   "source": [
    "Since the XML fully defines the probelm, you can now call `solver.solve()` to compute the IK solution. The result is a MxN numpy array, where M is 1 for for the IK solver, and N is the number of DoF (state vector size).\n",
    "\n",
    "You can also query the solver time."
   ]
  },
  {
   "cell_type": "code",
   "execution_count": null,
   "metadata": {},
   "outputs": [],
   "source": [
    "print('Robot pose: ' + str(solver.solve()[0]))\n",
    "print('Planning time: ' + str(solver.get_planning_time()) + 's')"
   ]
  }
 ],
 "metadata": {
  "kernelspec": {
   "display_name": "Python 2",
   "language": "python",
   "name": "python2"
  },
  "language_info": {
   "codemirror_mode": {
    "name": "ipython",
    "version": 2
   },
   "file_extension": ".py",
   "mimetype": "text/x-python",
   "name": "python",
   "nbconvert_exporter": "python",
   "pygments_lexer": "ipython2",
   "version": "2.7.15+"
  }
 },
 "nbformat": 4,
 "nbformat_minor": 2
}
